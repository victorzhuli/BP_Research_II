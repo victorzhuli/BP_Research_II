{
 "cells": [
  {
   "cell_type": "markdown",
   "metadata": {},
   "source": [
    "### Segmentation according to the peaks of PPG"
   ]
  },
  {
   "cell_type": "code",
   "execution_count": null,
   "metadata": {
    "collapsed": true
   },
   "outputs": [],
   "source": [
    "def segmentation(pid, rid, winLenInSec_=2, srate=125, newSrate=125, normFlag=True):\n",
    "    \"\"\"\n",
    "    Perform segmentation for a given recording designated by PID and RID\n",
    "    @Parameters:\n",
    "    pid: integer, PID, Part ID, under folder \"/Dropbox/projects/Blood_Pressure/WFDB/database/KData/BloodPressureDataset\".\n",
    "    rid: integer, RID, Recording ID, under associated PID.\n",
    "    winLenInSec: integer, window length that used for the segementation. The unit is second.\n",
    "    srate: integer, sampling rate of the loaded signal\n",
    "    newSrate: integer, required sampling rate after down sampling. If no down sampling is required, newSrate = srate.\n",
    "    normFlag: boolean, request normalization or not.\n",
    "    @Return:\n",
    "    X: array, shape(num_sample, num_winLenInPnt), segmented PPG signal\n",
    "    Y: array, shape(num_sample, num_winLenInPnt), segmented ABP signal\n",
    "    \"\"\"\n",
    "    "
   ]
  }
 ],
 "metadata": {
  "kernelspec": {
   "display_name": "Python 3",
   "language": "python",
   "name": "python3"
  },
  "language_info": {
   "codemirror_mode": {
    "name": "ipython",
    "version": 3
   },
   "file_extension": ".py",
   "mimetype": "text/x-python",
   "name": "python",
   "nbconvert_exporter": "python",
   "pygments_lexer": "ipython3",
   "version": "3.5.2"
  }
 },
 "nbformat": 4,
 "nbformat_minor": 2
}
